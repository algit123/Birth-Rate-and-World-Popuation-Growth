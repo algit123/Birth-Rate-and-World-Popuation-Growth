{
 "cells": [
  {
   "cell_type": "markdown",
   "metadata": {},
   "source": [
    "# Birth Rate Per Capita Mini-Project\n",
    "\n",
    "This mini-project aims to assess whether Birth Rate per Capita drops significantly around the world when countries develop and become richer, and its impact on the world population growth.\n",
    "\n",
    "Dataset used:      \"World Development Indicators\" from Kaggle (originally from the World Bank)"
   ]
  },
  {
   "cell_type": "markdown",
   "metadata": {},
   "source": [
    "## Import Packages\n",
    "\n",
    "Numpy\n",
    "Pandas\n",
    "Matplotlib\n",
    "Random\n",
    "Folium"
   ]
  },
  {
   "cell_type": "code",
   "execution_count": 1,
   "metadata": {},
   "outputs": [],
   "source": [
    "import numpy as np\n",
    "import pandas as pd\n",
    "from matplotlib import pyplot as plt\n",
    "import random\n",
    "import folium"
   ]
  },
  {
   "cell_type": "markdown",
   "metadata": {},
   "source": [
    "## Loading the dataset"
   ]
  },
  {
   "cell_type": "code",
   "execution_count": 2,
   "metadata": {},
   "outputs": [
    {
     "data": {
      "text/plain": [
       "(5656458, 6)"
      ]
     },
     "execution_count": 2,
     "metadata": {},
     "output_type": "execute_result"
    }
   ],
   "source": [
    "dataset = pd.read_csv('./world-development-indicators/Indicators.csv')\n",
    "dataset.shape"
   ]
  },
  {
   "cell_type": "markdown",
   "metadata": {},
   "source": [
    "## Exploring the dataset"
   ]
  },
  {
   "cell_type": "code",
   "execution_count": 3,
   "metadata": {},
   "outputs": [
    {
     "data": {
      "text/html": [
       "<div>\n",
       "<style scoped>\n",
       "    .dataframe tbody tr th:only-of-type {\n",
       "        vertical-align: middle;\n",
       "    }\n",
       "\n",
       "    .dataframe tbody tr th {\n",
       "        vertical-align: top;\n",
       "    }\n",
       "\n",
       "    .dataframe thead th {\n",
       "        text-align: right;\n",
       "    }\n",
       "</style>\n",
       "<table border=\"1\" class=\"dataframe\">\n",
       "  <thead>\n",
       "    <tr style=\"text-align: right;\">\n",
       "      <th></th>\n",
       "      <th>CountryName</th>\n",
       "      <th>CountryCode</th>\n",
       "      <th>IndicatorName</th>\n",
       "      <th>IndicatorCode</th>\n",
       "      <th>Year</th>\n",
       "      <th>Value</th>\n",
       "    </tr>\n",
       "  </thead>\n",
       "  <tbody>\n",
       "    <tr>\n",
       "      <th>0</th>\n",
       "      <td>Arab World</td>\n",
       "      <td>ARB</td>\n",
       "      <td>Adolescent fertility rate (births per 1,000 wo...</td>\n",
       "      <td>SP.ADO.TFRT</td>\n",
       "      <td>1960</td>\n",
       "      <td>1.335609e+02</td>\n",
       "    </tr>\n",
       "    <tr>\n",
       "      <th>1</th>\n",
       "      <td>Arab World</td>\n",
       "      <td>ARB</td>\n",
       "      <td>Age dependency ratio (% of working-age populat...</td>\n",
       "      <td>SP.POP.DPND</td>\n",
       "      <td>1960</td>\n",
       "      <td>8.779760e+01</td>\n",
       "    </tr>\n",
       "    <tr>\n",
       "      <th>2</th>\n",
       "      <td>Arab World</td>\n",
       "      <td>ARB</td>\n",
       "      <td>Age dependency ratio, old (% of working-age po...</td>\n",
       "      <td>SP.POP.DPND.OL</td>\n",
       "      <td>1960</td>\n",
       "      <td>6.634579e+00</td>\n",
       "    </tr>\n",
       "    <tr>\n",
       "      <th>3</th>\n",
       "      <td>Arab World</td>\n",
       "      <td>ARB</td>\n",
       "      <td>Age dependency ratio, young (% of working-age ...</td>\n",
       "      <td>SP.POP.DPND.YG</td>\n",
       "      <td>1960</td>\n",
       "      <td>8.102333e+01</td>\n",
       "    </tr>\n",
       "    <tr>\n",
       "      <th>4</th>\n",
       "      <td>Arab World</td>\n",
       "      <td>ARB</td>\n",
       "      <td>Arms exports (SIPRI trend indicator values)</td>\n",
       "      <td>MS.MIL.XPRT.KD</td>\n",
       "      <td>1960</td>\n",
       "      <td>3.000000e+06</td>\n",
       "    </tr>\n",
       "    <tr>\n",
       "      <th>5</th>\n",
       "      <td>Arab World</td>\n",
       "      <td>ARB</td>\n",
       "      <td>Arms imports (SIPRI trend indicator values)</td>\n",
       "      <td>MS.MIL.MPRT.KD</td>\n",
       "      <td>1960</td>\n",
       "      <td>5.380000e+08</td>\n",
       "    </tr>\n",
       "    <tr>\n",
       "      <th>6</th>\n",
       "      <td>Arab World</td>\n",
       "      <td>ARB</td>\n",
       "      <td>Birth rate, crude (per 1,000 people)</td>\n",
       "      <td>SP.DYN.CBRT.IN</td>\n",
       "      <td>1960</td>\n",
       "      <td>4.769789e+01</td>\n",
       "    </tr>\n",
       "    <tr>\n",
       "      <th>7</th>\n",
       "      <td>Arab World</td>\n",
       "      <td>ARB</td>\n",
       "      <td>CO2 emissions (kt)</td>\n",
       "      <td>EN.ATM.CO2E.KT</td>\n",
       "      <td>1960</td>\n",
       "      <td>5.956399e+04</td>\n",
       "    </tr>\n",
       "    <tr>\n",
       "      <th>8</th>\n",
       "      <td>Arab World</td>\n",
       "      <td>ARB</td>\n",
       "      <td>CO2 emissions (metric tons per capita)</td>\n",
       "      <td>EN.ATM.CO2E.PC</td>\n",
       "      <td>1960</td>\n",
       "      <td>6.439635e-01</td>\n",
       "    </tr>\n",
       "    <tr>\n",
       "      <th>9</th>\n",
       "      <td>Arab World</td>\n",
       "      <td>ARB</td>\n",
       "      <td>CO2 emissions from gaseous fuel consumption (%...</td>\n",
       "      <td>EN.ATM.CO2E.GF.ZS</td>\n",
       "      <td>1960</td>\n",
       "      <td>5.041292e+00</td>\n",
       "    </tr>\n",
       "  </tbody>\n",
       "</table>\n",
       "</div>"
      ],
      "text/plain": [
       "  CountryName CountryCode                                      IndicatorName  \\\n",
       "0  Arab World         ARB  Adolescent fertility rate (births per 1,000 wo...   \n",
       "1  Arab World         ARB  Age dependency ratio (% of working-age populat...   \n",
       "2  Arab World         ARB  Age dependency ratio, old (% of working-age po...   \n",
       "3  Arab World         ARB  Age dependency ratio, young (% of working-age ...   \n",
       "4  Arab World         ARB        Arms exports (SIPRI trend indicator values)   \n",
       "5  Arab World         ARB        Arms imports (SIPRI trend indicator values)   \n",
       "6  Arab World         ARB               Birth rate, crude (per 1,000 people)   \n",
       "7  Arab World         ARB                                 CO2 emissions (kt)   \n",
       "8  Arab World         ARB             CO2 emissions (metric tons per capita)   \n",
       "9  Arab World         ARB  CO2 emissions from gaseous fuel consumption (%...   \n",
       "\n",
       "       IndicatorCode  Year         Value  \n",
       "0        SP.ADO.TFRT  1960  1.335609e+02  \n",
       "1        SP.POP.DPND  1960  8.779760e+01  \n",
       "2     SP.POP.DPND.OL  1960  6.634579e+00  \n",
       "3     SP.POP.DPND.YG  1960  8.102333e+01  \n",
       "4     MS.MIL.XPRT.KD  1960  3.000000e+06  \n",
       "5     MS.MIL.MPRT.KD  1960  5.380000e+08  \n",
       "6     SP.DYN.CBRT.IN  1960  4.769789e+01  \n",
       "7     EN.ATM.CO2E.KT  1960  5.956399e+04  \n",
       "8     EN.ATM.CO2E.PC  1960  6.439635e-01  \n",
       "9  EN.ATM.CO2E.GF.ZS  1960  5.041292e+00  "
      ]
     },
     "execution_count": 3,
     "metadata": {},
     "output_type": "execute_result"
    }
   ],
   "source": [
    "dataset.head(10)"
   ]
  },
  {
   "cell_type": "markdown",
   "metadata": {},
   "source": [
    "### Subset of records with \"Birth rate\" indicator"
   ]
  },
  {
   "cell_type": "code",
   "execution_count": 4,
   "metadata": {},
   "outputs": [
    {
     "data": {
      "text/html": [
       "<div>\n",
       "<style scoped>\n",
       "    .dataframe tbody tr th:only-of-type {\n",
       "        vertical-align: middle;\n",
       "    }\n",
       "\n",
       "    .dataframe tbody tr th {\n",
       "        vertical-align: top;\n",
       "    }\n",
       "\n",
       "    .dataframe thead th {\n",
       "        text-align: right;\n",
       "    }\n",
       "</style>\n",
       "<table border=\"1\" class=\"dataframe\">\n",
       "  <thead>\n",
       "    <tr style=\"text-align: right;\">\n",
       "      <th></th>\n",
       "      <th>CountryName</th>\n",
       "      <th>CountryCode</th>\n",
       "      <th>IndicatorName</th>\n",
       "      <th>IndicatorCode</th>\n",
       "      <th>Year</th>\n",
       "      <th>Value</th>\n",
       "    </tr>\n",
       "  </thead>\n",
       "  <tbody>\n",
       "    <tr>\n",
       "      <th>6</th>\n",
       "      <td>Arab World</td>\n",
       "      <td>ARB</td>\n",
       "      <td>Birth rate, crude (per 1,000 people)</td>\n",
       "      <td>SP.DYN.CBRT.IN</td>\n",
       "      <td>1960</td>\n",
       "      <td>47.697888</td>\n",
       "    </tr>\n",
       "    <tr>\n",
       "      <th>84</th>\n",
       "      <td>Caribbean small states</td>\n",
       "      <td>CSS</td>\n",
       "      <td>Birth rate, crude (per 1,000 people)</td>\n",
       "      <td>SP.DYN.CBRT.IN</td>\n",
       "      <td>1960</td>\n",
       "      <td>40.017001</td>\n",
       "    </tr>\n",
       "    <tr>\n",
       "      <th>164</th>\n",
       "      <td>Central Europe and the Baltics</td>\n",
       "      <td>CEB</td>\n",
       "      <td>Birth rate, crude (per 1,000 people)</td>\n",
       "      <td>SP.DYN.CBRT.IN</td>\n",
       "      <td>1960</td>\n",
       "      <td>19.117435</td>\n",
       "    </tr>\n",
       "    <tr>\n",
       "      <th>236</th>\n",
       "      <td>East Asia &amp; Pacific (all income levels)</td>\n",
       "      <td>EAS</td>\n",
       "      <td>Birth rate, crude (per 1,000 people)</td>\n",
       "      <td>SP.DYN.CBRT.IN</td>\n",
       "      <td>1960</td>\n",
       "      <td>26.362350</td>\n",
       "    </tr>\n",
       "    <tr>\n",
       "      <th>359</th>\n",
       "      <td>East Asia &amp; Pacific (developing only)</td>\n",
       "      <td>EAP</td>\n",
       "      <td>Birth rate, crude (per 1,000 people)</td>\n",
       "      <td>SP.DYN.CBRT.IN</td>\n",
       "      <td>1960</td>\n",
       "      <td>26.635950</td>\n",
       "    </tr>\n",
       "    <tr>\n",
       "      <th>480</th>\n",
       "      <td>Euro area</td>\n",
       "      <td>EMU</td>\n",
       "      <td>Birth rate, crude (per 1,000 people)</td>\n",
       "      <td>SP.DYN.CBRT.IN</td>\n",
       "      <td>1960</td>\n",
       "      <td>18.838713</td>\n",
       "    </tr>\n",
       "    <tr>\n",
       "      <th>599</th>\n",
       "      <td>Europe &amp; Central Asia (all income levels)</td>\n",
       "      <td>ECS</td>\n",
       "      <td>Birth rate, crude (per 1,000 people)</td>\n",
       "      <td>SP.DYN.CBRT.IN</td>\n",
       "      <td>1960</td>\n",
       "      <td>22.141599</td>\n",
       "    </tr>\n",
       "    <tr>\n",
       "      <th>708</th>\n",
       "      <td>Europe &amp; Central Asia (developing only)</td>\n",
       "      <td>ECA</td>\n",
       "      <td>Birth rate, crude (per 1,000 people)</td>\n",
       "      <td>SP.DYN.CBRT.IN</td>\n",
       "      <td>1960</td>\n",
       "      <td>30.390165</td>\n",
       "    </tr>\n",
       "    <tr>\n",
       "      <th>797</th>\n",
       "      <td>European Union</td>\n",
       "      <td>EUU</td>\n",
       "      <td>Birth rate, crude (per 1,000 people)</td>\n",
       "      <td>SP.DYN.CBRT.IN</td>\n",
       "      <td>1960</td>\n",
       "      <td>18.579592</td>\n",
       "    </tr>\n",
       "    <tr>\n",
       "      <th>912</th>\n",
       "      <td>Fragile and conflict affected situations</td>\n",
       "      <td>FCS</td>\n",
       "      <td>Birth rate, crude (per 1,000 people)</td>\n",
       "      <td>SP.DYN.CBRT.IN</td>\n",
       "      <td>1960</td>\n",
       "      <td>46.458639</td>\n",
       "    </tr>\n",
       "  </tbody>\n",
       "</table>\n",
       "</div>"
      ],
      "text/plain": [
       "                                   CountryName CountryCode  \\\n",
       "6                                   Arab World         ARB   \n",
       "84                      Caribbean small states         CSS   \n",
       "164             Central Europe and the Baltics         CEB   \n",
       "236    East Asia & Pacific (all income levels)         EAS   \n",
       "359      East Asia & Pacific (developing only)         EAP   \n",
       "480                                  Euro area         EMU   \n",
       "599  Europe & Central Asia (all income levels)         ECS   \n",
       "708    Europe & Central Asia (developing only)         ECA   \n",
       "797                             European Union         EUU   \n",
       "912   Fragile and conflict affected situations         FCS   \n",
       "\n",
       "                            IndicatorName   IndicatorCode  Year      Value  \n",
       "6    Birth rate, crude (per 1,000 people)  SP.DYN.CBRT.IN  1960  47.697888  \n",
       "84   Birth rate, crude (per 1,000 people)  SP.DYN.CBRT.IN  1960  40.017001  \n",
       "164  Birth rate, crude (per 1,000 people)  SP.DYN.CBRT.IN  1960  19.117435  \n",
       "236  Birth rate, crude (per 1,000 people)  SP.DYN.CBRT.IN  1960  26.362350  \n",
       "359  Birth rate, crude (per 1,000 people)  SP.DYN.CBRT.IN  1960  26.635950  \n",
       "480  Birth rate, crude (per 1,000 people)  SP.DYN.CBRT.IN  1960  18.838713  \n",
       "599  Birth rate, crude (per 1,000 people)  SP.DYN.CBRT.IN  1960  22.141599  \n",
       "708  Birth rate, crude (per 1,000 people)  SP.DYN.CBRT.IN  1960  30.390165  \n",
       "797  Birth rate, crude (per 1,000 people)  SP.DYN.CBRT.IN  1960  18.579592  \n",
       "912  Birth rate, crude (per 1,000 people)  SP.DYN.CBRT.IN  1960  46.458639  "
      ]
     },
     "execution_count": 4,
     "metadata": {},
     "output_type": "execute_result"
    }
   ],
   "source": [
    "filter_birth = dataset[\"IndicatorName\"].str.contains(\"Birth rate\")\n",
    "#filter1.head()\n",
    "subset_birth = dataset[filter_birth]\n",
    "subset_birth.head(10)"
   ]
  },
  {
   "cell_type": "markdown",
   "metadata": {},
   "source": [
    "### Subset of records with GDP per Capita -constant 2005 US$ - Indicator"
   ]
  },
  {
   "cell_type": "code",
   "execution_count": 5,
   "metadata": {},
   "outputs": [
    {
     "data": {
      "text/html": [
       "<div>\n",
       "<style scoped>\n",
       "    .dataframe tbody tr th:only-of-type {\n",
       "        vertical-align: middle;\n",
       "    }\n",
       "\n",
       "    .dataframe tbody tr th {\n",
       "        vertical-align: top;\n",
       "    }\n",
       "\n",
       "    .dataframe thead th {\n",
       "        text-align: right;\n",
       "    }\n",
       "</style>\n",
       "<table border=\"1\" class=\"dataframe\">\n",
       "  <thead>\n",
       "    <tr style=\"text-align: right;\">\n",
       "      <th></th>\n",
       "      <th>CountryName</th>\n",
       "      <th>CountryCode</th>\n",
       "      <th>IndicatorName</th>\n",
       "      <th>IndicatorCode</th>\n",
       "      <th>Year</th>\n",
       "      <th>Value</th>\n",
       "    </tr>\n",
       "  </thead>\n",
       "  <tbody>\n",
       "    <tr>\n",
       "      <th>263</th>\n",
       "      <td>East Asia &amp; Pacific (all income levels)</td>\n",
       "      <td>EAS</td>\n",
       "      <td>GDP per capita (constant 2005 US$)</td>\n",
       "      <td>NY.GDP.PCAP.KD</td>\n",
       "      <td>1960</td>\n",
       "      <td>982.026842</td>\n",
       "    </tr>\n",
       "    <tr>\n",
       "      <th>376</th>\n",
       "      <td>East Asia &amp; Pacific (developing only)</td>\n",
       "      <td>EAP</td>\n",
       "      <td>GDP per capita (constant 2005 US$)</td>\n",
       "      <td>NY.GDP.PCAP.KD</td>\n",
       "      <td>1960</td>\n",
       "      <td>168.600612</td>\n",
       "    </tr>\n",
       "    <tr>\n",
       "      <th>517</th>\n",
       "      <td>Euro area</td>\n",
       "      <td>EMU</td>\n",
       "      <td>GDP per capita (constant 2005 US$)</td>\n",
       "      <td>NY.GDP.PCAP.KD</td>\n",
       "      <td>1960</td>\n",
       "      <td>9388.717505</td>\n",
       "    </tr>\n",
       "    <tr>\n",
       "      <th>623</th>\n",
       "      <td>Europe &amp; Central Asia (all income levels)</td>\n",
       "      <td>ECS</td>\n",
       "      <td>GDP per capita (constant 2005 US$)</td>\n",
       "      <td>NY.GDP.PCAP.KD</td>\n",
       "      <td>1960</td>\n",
       "      <td>6547.964873</td>\n",
       "    </tr>\n",
       "    <tr>\n",
       "      <th>835</th>\n",
       "      <td>European Union</td>\n",
       "      <td>EUU</td>\n",
       "      <td>GDP per capita (constant 2005 US$)</td>\n",
       "      <td>NY.GDP.PCAP.KD</td>\n",
       "      <td>1960</td>\n",
       "      <td>8997.466960</td>\n",
       "    </tr>\n",
       "    <tr>\n",
       "      <th>1003</th>\n",
       "      <td>Heavily indebted poor countries (HIPC)</td>\n",
       "      <td>HPC</td>\n",
       "      <td>GDP per capita (constant 2005 US$)</td>\n",
       "      <td>NY.GDP.PCAP.KD</td>\n",
       "      <td>1960</td>\n",
       "      <td>424.892109</td>\n",
       "    </tr>\n",
       "    <tr>\n",
       "      <th>1126</th>\n",
       "      <td>High income</td>\n",
       "      <td>HIC</td>\n",
       "      <td>GDP per capita (constant 2005 US$)</td>\n",
       "      <td>NY.GDP.PCAP.KD</td>\n",
       "      <td>1960</td>\n",
       "      <td>9080.743279</td>\n",
       "    </tr>\n",
       "    <tr>\n",
       "      <th>1326</th>\n",
       "      <td>High income: OECD</td>\n",
       "      <td>OEC</td>\n",
       "      <td>GDP per capita (constant 2005 US$)</td>\n",
       "      <td>NY.GDP.PCAP.KD</td>\n",
       "      <td>1960</td>\n",
       "      <td>10647.053893</td>\n",
       "    </tr>\n",
       "    <tr>\n",
       "      <th>1436</th>\n",
       "      <td>Latin America &amp; Caribbean (all income levels)</td>\n",
       "      <td>LCN</td>\n",
       "      <td>GDP per capita (constant 2005 US$)</td>\n",
       "      <td>NY.GDP.PCAP.KD</td>\n",
       "      <td>1960</td>\n",
       "      <td>2316.355110</td>\n",
       "    </tr>\n",
       "    <tr>\n",
       "      <th>1566</th>\n",
       "      <td>Latin America &amp; Caribbean (developing only)</td>\n",
       "      <td>LAC</td>\n",
       "      <td>GDP per capita (constant 2005 US$)</td>\n",
       "      <td>NY.GDP.PCAP.KD</td>\n",
       "      <td>1960</td>\n",
       "      <td>1924.846754</td>\n",
       "    </tr>\n",
       "  </tbody>\n",
       "</table>\n",
       "</div>"
      ],
      "text/plain": [
       "                                        CountryName CountryCode  \\\n",
       "263         East Asia & Pacific (all income levels)         EAS   \n",
       "376           East Asia & Pacific (developing only)         EAP   \n",
       "517                                       Euro area         EMU   \n",
       "623       Europe & Central Asia (all income levels)         ECS   \n",
       "835                                  European Union         EUU   \n",
       "1003         Heavily indebted poor countries (HIPC)         HPC   \n",
       "1126                                    High income         HIC   \n",
       "1326                              High income: OECD         OEC   \n",
       "1436  Latin America & Caribbean (all income levels)         LCN   \n",
       "1566    Latin America & Caribbean (developing only)         LAC   \n",
       "\n",
       "                           IndicatorName   IndicatorCode  Year         Value  \n",
       "263   GDP per capita (constant 2005 US$)  NY.GDP.PCAP.KD  1960    982.026842  \n",
       "376   GDP per capita (constant 2005 US$)  NY.GDP.PCAP.KD  1960    168.600612  \n",
       "517   GDP per capita (constant 2005 US$)  NY.GDP.PCAP.KD  1960   9388.717505  \n",
       "623   GDP per capita (constant 2005 US$)  NY.GDP.PCAP.KD  1960   6547.964873  \n",
       "835   GDP per capita (constant 2005 US$)  NY.GDP.PCAP.KD  1960   8997.466960  \n",
       "1003  GDP per capita (constant 2005 US$)  NY.GDP.PCAP.KD  1960    424.892109  \n",
       "1126  GDP per capita (constant 2005 US$)  NY.GDP.PCAP.KD  1960   9080.743279  \n",
       "1326  GDP per capita (constant 2005 US$)  NY.GDP.PCAP.KD  1960  10647.053893  \n",
       "1436  GDP per capita (constant 2005 US$)  NY.GDP.PCAP.KD  1960   2316.355110  \n",
       "1566  GDP per capita (constant 2005 US$)  NY.GDP.PCAP.KD  1960   1924.846754  "
      ]
     },
     "execution_count": 5,
     "metadata": {},
     "output_type": "execute_result"
    }
   ],
   "source": [
    "filter_GDP = dataset[\"IndicatorCode\"] == \"NY.GDP.PCAP.KD\"\n",
    "#filter1.head()\n",
    "subset_GDP = dataset[filter_GDP]\n",
    "subset_GDP.head(10)"
   ]
  },
  {
   "cell_type": "code",
   "execution_count": 6,
   "metadata": {},
   "outputs": [
    {
     "data": {
      "text/html": [
       "<div>\n",
       "<style scoped>\n",
       "    .dataframe tbody tr th:only-of-type {\n",
       "        vertical-align: middle;\n",
       "    }\n",
       "\n",
       "    .dataframe tbody tr th {\n",
       "        vertical-align: top;\n",
       "    }\n",
       "\n",
       "    .dataframe thead th {\n",
       "        text-align: right;\n",
       "    }\n",
       "</style>\n",
       "<table border=\"1\" class=\"dataframe\">\n",
       "  <thead>\n",
       "    <tr style=\"text-align: right;\">\n",
       "      <th></th>\n",
       "      <th>CountryName</th>\n",
       "      <th>CountryCode</th>\n",
       "      <th>IndicatorName</th>\n",
       "      <th>IndicatorCode</th>\n",
       "      <th>Year</th>\n",
       "      <th>Value</th>\n",
       "    </tr>\n",
       "  </thead>\n",
       "  <tbody>\n",
       "    <tr>\n",
       "      <th>73</th>\n",
       "      <td>Arab World</td>\n",
       "      <td>ARB</td>\n",
       "      <td>Population, total</td>\n",
       "      <td>SP.POP.TOTL</td>\n",
       "      <td>1960</td>\n",
       "      <td>9.249590e+07</td>\n",
       "    </tr>\n",
       "    <tr>\n",
       "      <th>150</th>\n",
       "      <td>Caribbean small states</td>\n",
       "      <td>CSS</td>\n",
       "      <td>Population, total</td>\n",
       "      <td>SP.POP.TOTL</td>\n",
       "      <td>1960</td>\n",
       "      <td>4.190810e+06</td>\n",
       "    </tr>\n",
       "    <tr>\n",
       "      <th>221</th>\n",
       "      <td>Central Europe and the Baltics</td>\n",
       "      <td>CEB</td>\n",
       "      <td>Population, total</td>\n",
       "      <td>SP.POP.TOTL</td>\n",
       "      <td>1960</td>\n",
       "      <td>9.140158e+07</td>\n",
       "    </tr>\n",
       "    <tr>\n",
       "      <th>341</th>\n",
       "      <td>East Asia &amp; Pacific (all income levels)</td>\n",
       "      <td>EAS</td>\n",
       "      <td>Population, total</td>\n",
       "      <td>SP.POP.TOTL</td>\n",
       "      <td>1960</td>\n",
       "      <td>1.042475e+09</td>\n",
       "    </tr>\n",
       "    <tr>\n",
       "      <th>462</th>\n",
       "      <td>East Asia &amp; Pacific (developing only)</td>\n",
       "      <td>EAP</td>\n",
       "      <td>Population, total</td>\n",
       "      <td>SP.POP.TOTL</td>\n",
       "      <td>1960</td>\n",
       "      <td>8.964930e+08</td>\n",
       "    </tr>\n",
       "    <tr>\n",
       "      <th>581</th>\n",
       "      <td>Euro area</td>\n",
       "      <td>EMU</td>\n",
       "      <td>Population, total</td>\n",
       "      <td>SP.POP.TOTL</td>\n",
       "      <td>1960</td>\n",
       "      <td>2.653965e+08</td>\n",
       "    </tr>\n",
       "    <tr>\n",
       "      <th>693</th>\n",
       "      <td>Europe &amp; Central Asia (all income levels)</td>\n",
       "      <td>ECS</td>\n",
       "      <td>Population, total</td>\n",
       "      <td>SP.POP.TOTL</td>\n",
       "      <td>1960</td>\n",
       "      <td>6.674890e+08</td>\n",
       "    </tr>\n",
       "    <tr>\n",
       "      <th>783</th>\n",
       "      <td>Europe &amp; Central Asia (developing only)</td>\n",
       "      <td>ECA</td>\n",
       "      <td>Population, total</td>\n",
       "      <td>SP.POP.TOTL</td>\n",
       "      <td>1960</td>\n",
       "      <td>1.553174e+08</td>\n",
       "    </tr>\n",
       "    <tr>\n",
       "      <th>895</th>\n",
       "      <td>European Union</td>\n",
       "      <td>EUU</td>\n",
       "      <td>Population, total</td>\n",
       "      <td>SP.POP.TOTL</td>\n",
       "      <td>1960</td>\n",
       "      <td>4.094985e+08</td>\n",
       "    </tr>\n",
       "    <tr>\n",
       "      <th>975</th>\n",
       "      <td>Fragile and conflict affected situations</td>\n",
       "      <td>FCS</td>\n",
       "      <td>Population, total</td>\n",
       "      <td>SP.POP.TOTL</td>\n",
       "      <td>1960</td>\n",
       "      <td>1.203546e+08</td>\n",
       "    </tr>\n",
       "  </tbody>\n",
       "</table>\n",
       "</div>"
      ],
      "text/plain": [
       "                                   CountryName CountryCode      IndicatorName  \\\n",
       "73                                  Arab World         ARB  Population, total   \n",
       "150                     Caribbean small states         CSS  Population, total   \n",
       "221             Central Europe and the Baltics         CEB  Population, total   \n",
       "341    East Asia & Pacific (all income levels)         EAS  Population, total   \n",
       "462      East Asia & Pacific (developing only)         EAP  Population, total   \n",
       "581                                  Euro area         EMU  Population, total   \n",
       "693  Europe & Central Asia (all income levels)         ECS  Population, total   \n",
       "783    Europe & Central Asia (developing only)         ECA  Population, total   \n",
       "895                             European Union         EUU  Population, total   \n",
       "975   Fragile and conflict affected situations         FCS  Population, total   \n",
       "\n",
       "    IndicatorCode  Year         Value  \n",
       "73    SP.POP.TOTL  1960  9.249590e+07  \n",
       "150   SP.POP.TOTL  1960  4.190810e+06  \n",
       "221   SP.POP.TOTL  1960  9.140158e+07  \n",
       "341   SP.POP.TOTL  1960  1.042475e+09  \n",
       "462   SP.POP.TOTL  1960  8.964930e+08  \n",
       "581   SP.POP.TOTL  1960  2.653965e+08  \n",
       "693   SP.POP.TOTL  1960  6.674890e+08  \n",
       "783   SP.POP.TOTL  1960  1.553174e+08  \n",
       "895   SP.POP.TOTL  1960  4.094985e+08  \n",
       "975   SP.POP.TOTL  1960  1.203546e+08  "
      ]
     },
     "execution_count": 6,
     "metadata": {},
     "output_type": "execute_result"
    }
   ],
   "source": [
    "filter_pop = dataset[\"IndicatorName\"] == \"Population, total\"\n",
    "#filter1.head()\n",
    "subset_pop = dataset[filter_pop]\n",
    "subset_pop.head(10)"
   ]
  },
  {
   "cell_type": "markdown",
   "metadata": {},
   "source": [
    "### Records with GDP and Birth Rate indicators in the same year"
   ]
  },
  {
   "cell_type": "code",
   "execution_count": 7,
   "metadata": {},
   "outputs": [
    {
     "data": {
      "text/html": [
       "<div>\n",
       "<style scoped>\n",
       "    .dataframe tbody tr th:only-of-type {\n",
       "        vertical-align: middle;\n",
       "    }\n",
       "\n",
       "    .dataframe tbody tr th {\n",
       "        vertical-align: top;\n",
       "    }\n",
       "\n",
       "    .dataframe thead th {\n",
       "        text-align: right;\n",
       "    }\n",
       "</style>\n",
       "<table border=\"1\" class=\"dataframe\">\n",
       "  <thead>\n",
       "    <tr style=\"text-align: right;\">\n",
       "      <th></th>\n",
       "      <th>CountryName</th>\n",
       "      <th>CountryCode</th>\n",
       "      <th>IndicatorName_x</th>\n",
       "      <th>IndicatorCode_x</th>\n",
       "      <th>Year</th>\n",
       "      <th>Value_x</th>\n",
       "      <th>IndicatorName_y</th>\n",
       "      <th>IndicatorCode_y</th>\n",
       "      <th>Value_y</th>\n",
       "    </tr>\n",
       "  </thead>\n",
       "  <tbody>\n",
       "    <tr>\n",
       "      <th>0</th>\n",
       "      <td>East Asia &amp; Pacific (all income levels)</td>\n",
       "      <td>EAS</td>\n",
       "      <td>GDP per capita (constant 2005 US$)</td>\n",
       "      <td>NY.GDP.PCAP.KD</td>\n",
       "      <td>1960</td>\n",
       "      <td>982.026842</td>\n",
       "      <td>Birth rate, crude (per 1,000 people)</td>\n",
       "      <td>SP.DYN.CBRT.IN</td>\n",
       "      <td>26.362350</td>\n",
       "    </tr>\n",
       "    <tr>\n",
       "      <th>1</th>\n",
       "      <td>East Asia &amp; Pacific (developing only)</td>\n",
       "      <td>EAP</td>\n",
       "      <td>GDP per capita (constant 2005 US$)</td>\n",
       "      <td>NY.GDP.PCAP.KD</td>\n",
       "      <td>1960</td>\n",
       "      <td>168.600612</td>\n",
       "      <td>Birth rate, crude (per 1,000 people)</td>\n",
       "      <td>SP.DYN.CBRT.IN</td>\n",
       "      <td>26.635950</td>\n",
       "    </tr>\n",
       "    <tr>\n",
       "      <th>2</th>\n",
       "      <td>Euro area</td>\n",
       "      <td>EMU</td>\n",
       "      <td>GDP per capita (constant 2005 US$)</td>\n",
       "      <td>NY.GDP.PCAP.KD</td>\n",
       "      <td>1960</td>\n",
       "      <td>9388.717505</td>\n",
       "      <td>Birth rate, crude (per 1,000 people)</td>\n",
       "      <td>SP.DYN.CBRT.IN</td>\n",
       "      <td>18.838713</td>\n",
       "    </tr>\n",
       "    <tr>\n",
       "      <th>3</th>\n",
       "      <td>Europe &amp; Central Asia (all income levels)</td>\n",
       "      <td>ECS</td>\n",
       "      <td>GDP per capita (constant 2005 US$)</td>\n",
       "      <td>NY.GDP.PCAP.KD</td>\n",
       "      <td>1960</td>\n",
       "      <td>6547.964873</td>\n",
       "      <td>Birth rate, crude (per 1,000 people)</td>\n",
       "      <td>SP.DYN.CBRT.IN</td>\n",
       "      <td>22.141599</td>\n",
       "    </tr>\n",
       "    <tr>\n",
       "      <th>4</th>\n",
       "      <td>European Union</td>\n",
       "      <td>EUU</td>\n",
       "      <td>GDP per capita (constant 2005 US$)</td>\n",
       "      <td>NY.GDP.PCAP.KD</td>\n",
       "      <td>1960</td>\n",
       "      <td>8997.466960</td>\n",
       "      <td>Birth rate, crude (per 1,000 people)</td>\n",
       "      <td>SP.DYN.CBRT.IN</td>\n",
       "      <td>18.579592</td>\n",
       "    </tr>\n",
       "    <tr>\n",
       "      <th>5</th>\n",
       "      <td>Heavily indebted poor countries (HIPC)</td>\n",
       "      <td>HPC</td>\n",
       "      <td>GDP per capita (constant 2005 US$)</td>\n",
       "      <td>NY.GDP.PCAP.KD</td>\n",
       "      <td>1960</td>\n",
       "      <td>424.892109</td>\n",
       "      <td>Birth rate, crude (per 1,000 people)</td>\n",
       "      <td>SP.DYN.CBRT.IN</td>\n",
       "      <td>48.180658</td>\n",
       "    </tr>\n",
       "    <tr>\n",
       "      <th>6</th>\n",
       "      <td>High income</td>\n",
       "      <td>HIC</td>\n",
       "      <td>GDP per capita (constant 2005 US$)</td>\n",
       "      <td>NY.GDP.PCAP.KD</td>\n",
       "      <td>1960</td>\n",
       "      <td>9080.743279</td>\n",
       "      <td>Birth rate, crude (per 1,000 people)</td>\n",
       "      <td>SP.DYN.CBRT.IN</td>\n",
       "      <td>22.187171</td>\n",
       "    </tr>\n",
       "    <tr>\n",
       "      <th>7</th>\n",
       "      <td>High income: OECD</td>\n",
       "      <td>OEC</td>\n",
       "      <td>GDP per capita (constant 2005 US$)</td>\n",
       "      <td>NY.GDP.PCAP.KD</td>\n",
       "      <td>1960</td>\n",
       "      <td>10647.053893</td>\n",
       "      <td>Birth rate, crude (per 1,000 people)</td>\n",
       "      <td>SP.DYN.CBRT.IN</td>\n",
       "      <td>21.039056</td>\n",
       "    </tr>\n",
       "    <tr>\n",
       "      <th>8</th>\n",
       "      <td>Latin America &amp; Caribbean (all income levels)</td>\n",
       "      <td>LCN</td>\n",
       "      <td>GDP per capita (constant 2005 US$)</td>\n",
       "      <td>NY.GDP.PCAP.KD</td>\n",
       "      <td>1960</td>\n",
       "      <td>2316.355110</td>\n",
       "      <td>Birth rate, crude (per 1,000 people)</td>\n",
       "      <td>SP.DYN.CBRT.IN</td>\n",
       "      <td>41.569038</td>\n",
       "    </tr>\n",
       "    <tr>\n",
       "      <th>9</th>\n",
       "      <td>Latin America &amp; Caribbean (developing only)</td>\n",
       "      <td>LAC</td>\n",
       "      <td>GDP per capita (constant 2005 US$)</td>\n",
       "      <td>NY.GDP.PCAP.KD</td>\n",
       "      <td>1960</td>\n",
       "      <td>1924.846754</td>\n",
       "      <td>Birth rate, crude (per 1,000 people)</td>\n",
       "      <td>SP.DYN.CBRT.IN</td>\n",
       "      <td>44.105637</td>\n",
       "    </tr>\n",
       "  </tbody>\n",
       "</table>\n",
       "</div>"
      ],
      "text/plain": [
       "                                     CountryName CountryCode  \\\n",
       "0        East Asia & Pacific (all income levels)         EAS   \n",
       "1          East Asia & Pacific (developing only)         EAP   \n",
       "2                                      Euro area         EMU   \n",
       "3      Europe & Central Asia (all income levels)         ECS   \n",
       "4                                 European Union         EUU   \n",
       "5         Heavily indebted poor countries (HIPC)         HPC   \n",
       "6                                    High income         HIC   \n",
       "7                              High income: OECD         OEC   \n",
       "8  Latin America & Caribbean (all income levels)         LCN   \n",
       "9    Latin America & Caribbean (developing only)         LAC   \n",
       "\n",
       "                      IndicatorName_x IndicatorCode_x  Year       Value_x  \\\n",
       "0  GDP per capita (constant 2005 US$)  NY.GDP.PCAP.KD  1960    982.026842   \n",
       "1  GDP per capita (constant 2005 US$)  NY.GDP.PCAP.KD  1960    168.600612   \n",
       "2  GDP per capita (constant 2005 US$)  NY.GDP.PCAP.KD  1960   9388.717505   \n",
       "3  GDP per capita (constant 2005 US$)  NY.GDP.PCAP.KD  1960   6547.964873   \n",
       "4  GDP per capita (constant 2005 US$)  NY.GDP.PCAP.KD  1960   8997.466960   \n",
       "5  GDP per capita (constant 2005 US$)  NY.GDP.PCAP.KD  1960    424.892109   \n",
       "6  GDP per capita (constant 2005 US$)  NY.GDP.PCAP.KD  1960   9080.743279   \n",
       "7  GDP per capita (constant 2005 US$)  NY.GDP.PCAP.KD  1960  10647.053893   \n",
       "8  GDP per capita (constant 2005 US$)  NY.GDP.PCAP.KD  1960   2316.355110   \n",
       "9  GDP per capita (constant 2005 US$)  NY.GDP.PCAP.KD  1960   1924.846754   \n",
       "\n",
       "                        IndicatorName_y IndicatorCode_y    Value_y  \n",
       "0  Birth rate, crude (per 1,000 people)  SP.DYN.CBRT.IN  26.362350  \n",
       "1  Birth rate, crude (per 1,000 people)  SP.DYN.CBRT.IN  26.635950  \n",
       "2  Birth rate, crude (per 1,000 people)  SP.DYN.CBRT.IN  18.838713  \n",
       "3  Birth rate, crude (per 1,000 people)  SP.DYN.CBRT.IN  22.141599  \n",
       "4  Birth rate, crude (per 1,000 people)  SP.DYN.CBRT.IN  18.579592  \n",
       "5  Birth rate, crude (per 1,000 people)  SP.DYN.CBRT.IN  48.180658  \n",
       "6  Birth rate, crude (per 1,000 people)  SP.DYN.CBRT.IN  22.187171  \n",
       "7  Birth rate, crude (per 1,000 people)  SP.DYN.CBRT.IN  21.039056  \n",
       "8  Birth rate, crude (per 1,000 people)  SP.DYN.CBRT.IN  41.569038  \n",
       "9  Birth rate, crude (per 1,000 people)  SP.DYN.CBRT.IN  44.105637  "
      ]
     },
     "execution_count": 7,
     "metadata": {},
     "output_type": "execute_result"
    }
   ],
   "source": [
    "subset_GDP_birth = pd.merge(subset_GDP, subset_birth, on=['CountryName','CountryCode','Year'], how='inner')\n",
    "subset_GDP_birth.head(10)"
   ]
  },
  {
   "cell_type": "markdown",
   "metadata": {},
   "source": [
    "### Records with GDP, Birth Rate, and Population indicators i the same year"
   ]
  },
  {
   "cell_type": "code",
   "execution_count": 8,
   "metadata": {},
   "outputs": [
    {
     "data": {
      "text/html": [
       "<div>\n",
       "<style scoped>\n",
       "    .dataframe tbody tr th:only-of-type {\n",
       "        vertical-align: middle;\n",
       "    }\n",
       "\n",
       "    .dataframe tbody tr th {\n",
       "        vertical-align: top;\n",
       "    }\n",
       "\n",
       "    .dataframe thead th {\n",
       "        text-align: right;\n",
       "    }\n",
       "</style>\n",
       "<table border=\"1\" class=\"dataframe\">\n",
       "  <thead>\n",
       "    <tr style=\"text-align: right;\">\n",
       "      <th></th>\n",
       "      <th>CountryName</th>\n",
       "      <th>CountryCode</th>\n",
       "      <th>IndicatorName_x</th>\n",
       "      <th>IndicatorCode_x</th>\n",
       "      <th>Year</th>\n",
       "      <th>Value_x</th>\n",
       "      <th>IndicatorName_y</th>\n",
       "      <th>IndicatorCode_y</th>\n",
       "      <th>Value_y</th>\n",
       "      <th>IndicatorName</th>\n",
       "      <th>IndicatorCode</th>\n",
       "      <th>Value</th>\n",
       "    </tr>\n",
       "  </thead>\n",
       "  <tbody>\n",
       "    <tr>\n",
       "      <th>0</th>\n",
       "      <td>East Asia &amp; Pacific (all income levels)</td>\n",
       "      <td>EAS</td>\n",
       "      <td>GDP per capita (constant 2005 US$)</td>\n",
       "      <td>NY.GDP.PCAP.KD</td>\n",
       "      <td>1960</td>\n",
       "      <td>982.026842</td>\n",
       "      <td>Birth rate, crude (per 1,000 people)</td>\n",
       "      <td>SP.DYN.CBRT.IN</td>\n",
       "      <td>26.362350</td>\n",
       "      <td>Population, total</td>\n",
       "      <td>SP.POP.TOTL</td>\n",
       "      <td>1.042475e+09</td>\n",
       "    </tr>\n",
       "    <tr>\n",
       "      <th>1</th>\n",
       "      <td>East Asia &amp; Pacific (developing only)</td>\n",
       "      <td>EAP</td>\n",
       "      <td>GDP per capita (constant 2005 US$)</td>\n",
       "      <td>NY.GDP.PCAP.KD</td>\n",
       "      <td>1960</td>\n",
       "      <td>168.600612</td>\n",
       "      <td>Birth rate, crude (per 1,000 people)</td>\n",
       "      <td>SP.DYN.CBRT.IN</td>\n",
       "      <td>26.635950</td>\n",
       "      <td>Population, total</td>\n",
       "      <td>SP.POP.TOTL</td>\n",
       "      <td>8.964930e+08</td>\n",
       "    </tr>\n",
       "    <tr>\n",
       "      <th>2</th>\n",
       "      <td>Euro area</td>\n",
       "      <td>EMU</td>\n",
       "      <td>GDP per capita (constant 2005 US$)</td>\n",
       "      <td>NY.GDP.PCAP.KD</td>\n",
       "      <td>1960</td>\n",
       "      <td>9388.717505</td>\n",
       "      <td>Birth rate, crude (per 1,000 people)</td>\n",
       "      <td>SP.DYN.CBRT.IN</td>\n",
       "      <td>18.838713</td>\n",
       "      <td>Population, total</td>\n",
       "      <td>SP.POP.TOTL</td>\n",
       "      <td>2.653965e+08</td>\n",
       "    </tr>\n",
       "    <tr>\n",
       "      <th>3</th>\n",
       "      <td>Europe &amp; Central Asia (all income levels)</td>\n",
       "      <td>ECS</td>\n",
       "      <td>GDP per capita (constant 2005 US$)</td>\n",
       "      <td>NY.GDP.PCAP.KD</td>\n",
       "      <td>1960</td>\n",
       "      <td>6547.964873</td>\n",
       "      <td>Birth rate, crude (per 1,000 people)</td>\n",
       "      <td>SP.DYN.CBRT.IN</td>\n",
       "      <td>22.141599</td>\n",
       "      <td>Population, total</td>\n",
       "      <td>SP.POP.TOTL</td>\n",
       "      <td>6.674890e+08</td>\n",
       "    </tr>\n",
       "    <tr>\n",
       "      <th>4</th>\n",
       "      <td>European Union</td>\n",
       "      <td>EUU</td>\n",
       "      <td>GDP per capita (constant 2005 US$)</td>\n",
       "      <td>NY.GDP.PCAP.KD</td>\n",
       "      <td>1960</td>\n",
       "      <td>8997.466960</td>\n",
       "      <td>Birth rate, crude (per 1,000 people)</td>\n",
       "      <td>SP.DYN.CBRT.IN</td>\n",
       "      <td>18.579592</td>\n",
       "      <td>Population, total</td>\n",
       "      <td>SP.POP.TOTL</td>\n",
       "      <td>4.094985e+08</td>\n",
       "    </tr>\n",
       "    <tr>\n",
       "      <th>5</th>\n",
       "      <td>Heavily indebted poor countries (HIPC)</td>\n",
       "      <td>HPC</td>\n",
       "      <td>GDP per capita (constant 2005 US$)</td>\n",
       "      <td>NY.GDP.PCAP.KD</td>\n",
       "      <td>1960</td>\n",
       "      <td>424.892109</td>\n",
       "      <td>Birth rate, crude (per 1,000 people)</td>\n",
       "      <td>SP.DYN.CBRT.IN</td>\n",
       "      <td>48.180658</td>\n",
       "      <td>Population, total</td>\n",
       "      <td>SP.POP.TOTL</td>\n",
       "      <td>1.624912e+08</td>\n",
       "    </tr>\n",
       "    <tr>\n",
       "      <th>6</th>\n",
       "      <td>High income</td>\n",
       "      <td>HIC</td>\n",
       "      <td>GDP per capita (constant 2005 US$)</td>\n",
       "      <td>NY.GDP.PCAP.KD</td>\n",
       "      <td>1960</td>\n",
       "      <td>9080.743279</td>\n",
       "      <td>Birth rate, crude (per 1,000 people)</td>\n",
       "      <td>SP.DYN.CBRT.IN</td>\n",
       "      <td>22.187171</td>\n",
       "      <td>Population, total</td>\n",
       "      <td>SP.POP.TOTL</td>\n",
       "      <td>9.075975e+08</td>\n",
       "    </tr>\n",
       "    <tr>\n",
       "      <th>7</th>\n",
       "      <td>High income: OECD</td>\n",
       "      <td>OEC</td>\n",
       "      <td>GDP per capita (constant 2005 US$)</td>\n",
       "      <td>NY.GDP.PCAP.KD</td>\n",
       "      <td>1960</td>\n",
       "      <td>10647.053893</td>\n",
       "      <td>Birth rate, crude (per 1,000 people)</td>\n",
       "      <td>SP.DYN.CBRT.IN</td>\n",
       "      <td>21.039056</td>\n",
       "      <td>Population, total</td>\n",
       "      <td>SP.POP.TOTL</td>\n",
       "      <td>7.209208e+08</td>\n",
       "    </tr>\n",
       "    <tr>\n",
       "      <th>8</th>\n",
       "      <td>Latin America &amp; Caribbean (all income levels)</td>\n",
       "      <td>LCN</td>\n",
       "      <td>GDP per capita (constant 2005 US$)</td>\n",
       "      <td>NY.GDP.PCAP.KD</td>\n",
       "      <td>1960</td>\n",
       "      <td>2316.355110</td>\n",
       "      <td>Birth rate, crude (per 1,000 people)</td>\n",
       "      <td>SP.DYN.CBRT.IN</td>\n",
       "      <td>41.569038</td>\n",
       "      <td>Population, total</td>\n",
       "      <td>SP.POP.TOTL</td>\n",
       "      <td>2.205642e+08</td>\n",
       "    </tr>\n",
       "    <tr>\n",
       "      <th>9</th>\n",
       "      <td>Latin America &amp; Caribbean (developing only)</td>\n",
       "      <td>LAC</td>\n",
       "      <td>GDP per capita (constant 2005 US$)</td>\n",
       "      <td>NY.GDP.PCAP.KD</td>\n",
       "      <td>1960</td>\n",
       "      <td>1924.846754</td>\n",
       "      <td>Birth rate, crude (per 1,000 people)</td>\n",
       "      <td>SP.DYN.CBRT.IN</td>\n",
       "      <td>44.105637</td>\n",
       "      <td>Population, total</td>\n",
       "      <td>SP.POP.TOTL</td>\n",
       "      <td>1.776822e+08</td>\n",
       "    </tr>\n",
       "  </tbody>\n",
       "</table>\n",
       "</div>"
      ],
      "text/plain": [
       "                                     CountryName CountryCode  \\\n",
       "0        East Asia & Pacific (all income levels)         EAS   \n",
       "1          East Asia & Pacific (developing only)         EAP   \n",
       "2                                      Euro area         EMU   \n",
       "3      Europe & Central Asia (all income levels)         ECS   \n",
       "4                                 European Union         EUU   \n",
       "5         Heavily indebted poor countries (HIPC)         HPC   \n",
       "6                                    High income         HIC   \n",
       "7                              High income: OECD         OEC   \n",
       "8  Latin America & Caribbean (all income levels)         LCN   \n",
       "9    Latin America & Caribbean (developing only)         LAC   \n",
       "\n",
       "                      IndicatorName_x IndicatorCode_x  Year       Value_x  \\\n",
       "0  GDP per capita (constant 2005 US$)  NY.GDP.PCAP.KD  1960    982.026842   \n",
       "1  GDP per capita (constant 2005 US$)  NY.GDP.PCAP.KD  1960    168.600612   \n",
       "2  GDP per capita (constant 2005 US$)  NY.GDP.PCAP.KD  1960   9388.717505   \n",
       "3  GDP per capita (constant 2005 US$)  NY.GDP.PCAP.KD  1960   6547.964873   \n",
       "4  GDP per capita (constant 2005 US$)  NY.GDP.PCAP.KD  1960   8997.466960   \n",
       "5  GDP per capita (constant 2005 US$)  NY.GDP.PCAP.KD  1960    424.892109   \n",
       "6  GDP per capita (constant 2005 US$)  NY.GDP.PCAP.KD  1960   9080.743279   \n",
       "7  GDP per capita (constant 2005 US$)  NY.GDP.PCAP.KD  1960  10647.053893   \n",
       "8  GDP per capita (constant 2005 US$)  NY.GDP.PCAP.KD  1960   2316.355110   \n",
       "9  GDP per capita (constant 2005 US$)  NY.GDP.PCAP.KD  1960   1924.846754   \n",
       "\n",
       "                        IndicatorName_y IndicatorCode_y    Value_y  \\\n",
       "0  Birth rate, crude (per 1,000 people)  SP.DYN.CBRT.IN  26.362350   \n",
       "1  Birth rate, crude (per 1,000 people)  SP.DYN.CBRT.IN  26.635950   \n",
       "2  Birth rate, crude (per 1,000 people)  SP.DYN.CBRT.IN  18.838713   \n",
       "3  Birth rate, crude (per 1,000 people)  SP.DYN.CBRT.IN  22.141599   \n",
       "4  Birth rate, crude (per 1,000 people)  SP.DYN.CBRT.IN  18.579592   \n",
       "5  Birth rate, crude (per 1,000 people)  SP.DYN.CBRT.IN  48.180658   \n",
       "6  Birth rate, crude (per 1,000 people)  SP.DYN.CBRT.IN  22.187171   \n",
       "7  Birth rate, crude (per 1,000 people)  SP.DYN.CBRT.IN  21.039056   \n",
       "8  Birth rate, crude (per 1,000 people)  SP.DYN.CBRT.IN  41.569038   \n",
       "9  Birth rate, crude (per 1,000 people)  SP.DYN.CBRT.IN  44.105637   \n",
       "\n",
       "       IndicatorName IndicatorCode         Value  \n",
       "0  Population, total   SP.POP.TOTL  1.042475e+09  \n",
       "1  Population, total   SP.POP.TOTL  8.964930e+08  \n",
       "2  Population, total   SP.POP.TOTL  2.653965e+08  \n",
       "3  Population, total   SP.POP.TOTL  6.674890e+08  \n",
       "4  Population, total   SP.POP.TOTL  4.094985e+08  \n",
       "5  Population, total   SP.POP.TOTL  1.624912e+08  \n",
       "6  Population, total   SP.POP.TOTL  9.075975e+08  \n",
       "7  Population, total   SP.POP.TOTL  7.209208e+08  \n",
       "8  Population, total   SP.POP.TOTL  2.205642e+08  \n",
       "9  Population, total   SP.POP.TOTL  1.776822e+08  "
      ]
     },
     "execution_count": 8,
     "metadata": {},
     "output_type": "execute_result"
    }
   ],
   "source": [
    "subset_GDP_birth_pop = pd.merge(subset_GDP_birth, subset_pop, on=['CountryName','CountryCode','Year'], how='inner')\n",
    "subset_GDP_birth_pop.head(10)"
   ]
  },
  {
   "cell_type": "markdown",
   "metadata": {},
   "source": [
    "### List of countries with GDP, Birth rate and Population"
   ]
  },
  {
   "cell_type": "code",
   "execution_count": 9,
   "metadata": {},
   "outputs": [
    {
     "data": {
      "text/plain": [
       "229"
      ]
     },
     "execution_count": 9,
     "metadata": {},
     "output_type": "execute_result"
    }
   ],
   "source": [
    "countries = subset_GDP_birth_pop[\"CountryName\"].unique().tolist()\n",
    "len(countries)"
   ]
  },
  {
   "cell_type": "code",
   "execution_count": 10,
   "metadata": {},
   "outputs": [
    {
     "data": {
      "text/plain": [
       "9507"
      ]
     },
     "execution_count": 10,
     "metadata": {},
     "output_type": "execute_result"
    }
   ],
   "source": [
    "len(subset_GDP_birth_pop)"
   ]
  },
  {
   "cell_type": "code",
   "execution_count": 11,
   "metadata": {},
   "outputs": [
    {
     "data": {
      "text/plain": [
       "9507"
      ]
     },
     "execution_count": 11,
     "metadata": {},
     "output_type": "execute_result"
    }
   ],
   "source": [
    "len(subset_GDP_birth_pop[\"CountryName\"])"
   ]
  },
  {
   "cell_type": "code",
   "execution_count": 12,
   "metadata": {},
   "outputs": [
    {
     "data": {
      "text/plain": [
       "True"
      ]
     },
     "execution_count": 12,
     "metadata": {},
     "output_type": "execute_result"
    }
   ],
   "source": [
    "\"World\" in countries"
   ]
  },
  {
   "cell_type": "code",
   "execution_count": 32,
   "metadata": {},
   "outputs": [
    {
     "data": {
      "text/html": [
       "<div>\n",
       "<style scoped>\n",
       "    .dataframe tbody tr th:only-of-type {\n",
       "        vertical-align: middle;\n",
       "    }\n",
       "\n",
       "    .dataframe tbody tr th {\n",
       "        vertical-align: top;\n",
       "    }\n",
       "\n",
       "    .dataframe thead th {\n",
       "        text-align: right;\n",
       "    }\n",
       "</style>\n",
       "<table border=\"1\" class=\"dataframe\">\n",
       "  <thead>\n",
       "    <tr style=\"text-align: right;\">\n",
       "      <th></th>\n",
       "      <th>CountryName</th>\n",
       "      <th>CountryCode</th>\n",
       "      <th>IndicatorName_x</th>\n",
       "      <th>IndicatorCode_x</th>\n",
       "      <th>Year</th>\n",
       "      <th>Value_x</th>\n",
       "      <th>IndicatorName_y</th>\n",
       "      <th>IndicatorCode_y</th>\n",
       "      <th>Value_y</th>\n",
       "      <th>IndicatorName</th>\n",
       "      <th>IndicatorCode</th>\n",
       "      <th>Value</th>\n",
       "    </tr>\n",
       "  </thead>\n",
       "  <tbody>\n",
       "    <tr>\n",
       "      <th>19</th>\n",
       "      <td>World</td>\n",
       "      <td>WLD</td>\n",
       "      <td>GDP per capita (constant 2005 US$)</td>\n",
       "      <td>NY.GDP.PCAP.KD</td>\n",
       "      <td>1960</td>\n",
       "      <td>3066.332850</td>\n",
       "      <td>Birth rate, crude (per 1,000 people)</td>\n",
       "      <td>SP.DYN.CBRT.IN</td>\n",
       "      <td>31.852130</td>\n",
       "      <td>Population, total</td>\n",
       "      <td>SP.POP.TOTL</td>\n",
       "      <td>3.034971e+09</td>\n",
       "    </tr>\n",
       "    <tr>\n",
       "      <th>129</th>\n",
       "      <td>World</td>\n",
       "      <td>WLD</td>\n",
       "      <td>GDP per capita (constant 2005 US$)</td>\n",
       "      <td>NY.GDP.PCAP.KD</td>\n",
       "      <td>1961</td>\n",
       "      <td>3155.181854</td>\n",
       "      <td>Birth rate, crude (per 1,000 people)</td>\n",
       "      <td>SP.DYN.CBRT.IN</td>\n",
       "      <td>31.130249</td>\n",
       "      <td>Population, total</td>\n",
       "      <td>SP.POP.TOTL</td>\n",
       "      <td>3.076039e+09</td>\n",
       "    </tr>\n",
       "    <tr>\n",
       "      <th>239</th>\n",
       "      <td>World</td>\n",
       "      <td>WLD</td>\n",
       "      <td>GDP per capita (constant 2005 US$)</td>\n",
       "      <td>NY.GDP.PCAP.KD</td>\n",
       "      <td>1962</td>\n",
       "      <td>3274.166163</td>\n",
       "      <td>Birth rate, crude (per 1,000 people)</td>\n",
       "      <td>SP.DYN.CBRT.IN</td>\n",
       "      <td>34.973515</td>\n",
       "      <td>Population, total</td>\n",
       "      <td>SP.POP.TOTL</td>\n",
       "      <td>3.128992e+09</td>\n",
       "    </tr>\n",
       "    <tr>\n",
       "      <th>350</th>\n",
       "      <td>World</td>\n",
       "      <td>WLD</td>\n",
       "      <td>GDP per capita (constant 2005 US$)</td>\n",
       "      <td>NY.GDP.PCAP.KD</td>\n",
       "      <td>1963</td>\n",
       "      <td>3374.815593</td>\n",
       "      <td>Birth rate, crude (per 1,000 people)</td>\n",
       "      <td>SP.DYN.CBRT.IN</td>\n",
       "      <td>36.137676</td>\n",
       "      <td>Population, total</td>\n",
       "      <td>SP.POP.TOTL</td>\n",
       "      <td>3.193888e+09</td>\n",
       "    </tr>\n",
       "    <tr>\n",
       "      <th>460</th>\n",
       "      <td>World</td>\n",
       "      <td>WLD</td>\n",
       "      <td>GDP per capita (constant 2005 US$)</td>\n",
       "      <td>NY.GDP.PCAP.KD</td>\n",
       "      <td>1964</td>\n",
       "      <td>3525.411667</td>\n",
       "      <td>Birth rate, crude (per 1,000 people)</td>\n",
       "      <td>SP.DYN.CBRT.IN</td>\n",
       "      <td>35.020803</td>\n",
       "      <td>Population, total</td>\n",
       "      <td>SP.POP.TOTL</td>\n",
       "      <td>3.259303e+09</td>\n",
       "    </tr>\n",
       "    <tr>\n",
       "      <th>571</th>\n",
       "      <td>World</td>\n",
       "      <td>WLD</td>\n",
       "      <td>GDP per capita (constant 2005 US$)</td>\n",
       "      <td>NY.GDP.PCAP.KD</td>\n",
       "      <td>1965</td>\n",
       "      <td>3645.973749</td>\n",
       "      <td>Birth rate, crude (per 1,000 people)</td>\n",
       "      <td>SP.DYN.CBRT.IN</td>\n",
       "      <td>34.396072</td>\n",
       "      <td>Population, total</td>\n",
       "      <td>SP.POP.TOTL</td>\n",
       "      <td>3.326000e+09</td>\n",
       "    </tr>\n",
       "    <tr>\n",
       "      <th>688</th>\n",
       "      <td>World</td>\n",
       "      <td>WLD</td>\n",
       "      <td>GDP per capita (constant 2005 US$)</td>\n",
       "      <td>NY.GDP.PCAP.KD</td>\n",
       "      <td>1966</td>\n",
       "      <td>3779.391539</td>\n",
       "      <td>Birth rate, crude (per 1,000 people)</td>\n",
       "      <td>SP.DYN.CBRT.IN</td>\n",
       "      <td>33.356690</td>\n",
       "      <td>Population, total</td>\n",
       "      <td>SP.POP.TOTL</td>\n",
       "      <td>3.395797e+09</td>\n",
       "    </tr>\n",
       "    <tr>\n",
       "      <th>809</th>\n",
       "      <td>World</td>\n",
       "      <td>WLD</td>\n",
       "      <td>GDP per capita (constant 2005 US$)</td>\n",
       "      <td>NY.GDP.PCAP.KD</td>\n",
       "      <td>1967</td>\n",
       "      <td>3866.421668</td>\n",
       "      <td>Birth rate, crude (per 1,000 people)</td>\n",
       "      <td>SP.DYN.CBRT.IN</td>\n",
       "      <td>33.082671</td>\n",
       "      <td>Population, total</td>\n",
       "      <td>SP.POP.TOTL</td>\n",
       "      <td>3.465205e+09</td>\n",
       "    </tr>\n",
       "    <tr>\n",
       "      <th>931</th>\n",
       "      <td>World</td>\n",
       "      <td>WLD</td>\n",
       "      <td>GDP per capita (constant 2005 US$)</td>\n",
       "      <td>NY.GDP.PCAP.KD</td>\n",
       "      <td>1968</td>\n",
       "      <td>4019.730450</td>\n",
       "      <td>Birth rate, crude (per 1,000 people)</td>\n",
       "      <td>SP.DYN.CBRT.IN</td>\n",
       "      <td>33.224742</td>\n",
       "      <td>Population, total</td>\n",
       "      <td>SP.POP.TOTL</td>\n",
       "      <td>3.535391e+09</td>\n",
       "    </tr>\n",
       "    <tr>\n",
       "      <th>1055</th>\n",
       "      <td>World</td>\n",
       "      <td>WLD</td>\n",
       "      <td>GDP per capita (constant 2005 US$)</td>\n",
       "      <td>NY.GDP.PCAP.KD</td>\n",
       "      <td>1969</td>\n",
       "      <td>4167.938659</td>\n",
       "      <td>Birth rate, crude (per 1,000 people)</td>\n",
       "      <td>SP.DYN.CBRT.IN</td>\n",
       "      <td>32.713414</td>\n",
       "      <td>Population, total</td>\n",
       "      <td>SP.POP.TOTL</td>\n",
       "      <td>3.609761e+09</td>\n",
       "    </tr>\n",
       "  </tbody>\n",
       "</table>\n",
       "</div>"
      ],
      "text/plain": [
       "     CountryName CountryCode                     IndicatorName_x  \\\n",
       "19         World         WLD  GDP per capita (constant 2005 US$)   \n",
       "129        World         WLD  GDP per capita (constant 2005 US$)   \n",
       "239        World         WLD  GDP per capita (constant 2005 US$)   \n",
       "350        World         WLD  GDP per capita (constant 2005 US$)   \n",
       "460        World         WLD  GDP per capita (constant 2005 US$)   \n",
       "571        World         WLD  GDP per capita (constant 2005 US$)   \n",
       "688        World         WLD  GDP per capita (constant 2005 US$)   \n",
       "809        World         WLD  GDP per capita (constant 2005 US$)   \n",
       "931        World         WLD  GDP per capita (constant 2005 US$)   \n",
       "1055       World         WLD  GDP per capita (constant 2005 US$)   \n",
       "\n",
       "     IndicatorCode_x  Year      Value_x                       IndicatorName_y  \\\n",
       "19    NY.GDP.PCAP.KD  1960  3066.332850  Birth rate, crude (per 1,000 people)   \n",
       "129   NY.GDP.PCAP.KD  1961  3155.181854  Birth rate, crude (per 1,000 people)   \n",
       "239   NY.GDP.PCAP.KD  1962  3274.166163  Birth rate, crude (per 1,000 people)   \n",
       "350   NY.GDP.PCAP.KD  1963  3374.815593  Birth rate, crude (per 1,000 people)   \n",
       "460   NY.GDP.PCAP.KD  1964  3525.411667  Birth rate, crude (per 1,000 people)   \n",
       "571   NY.GDP.PCAP.KD  1965  3645.973749  Birth rate, crude (per 1,000 people)   \n",
       "688   NY.GDP.PCAP.KD  1966  3779.391539  Birth rate, crude (per 1,000 people)   \n",
       "809   NY.GDP.PCAP.KD  1967  3866.421668  Birth rate, crude (per 1,000 people)   \n",
       "931   NY.GDP.PCAP.KD  1968  4019.730450  Birth rate, crude (per 1,000 people)   \n",
       "1055  NY.GDP.PCAP.KD  1969  4167.938659  Birth rate, crude (per 1,000 people)   \n",
       "\n",
       "     IndicatorCode_y    Value_y      IndicatorName IndicatorCode         Value  \n",
       "19    SP.DYN.CBRT.IN  31.852130  Population, total   SP.POP.TOTL  3.034971e+09  \n",
       "129   SP.DYN.CBRT.IN  31.130249  Population, total   SP.POP.TOTL  3.076039e+09  \n",
       "239   SP.DYN.CBRT.IN  34.973515  Population, total   SP.POP.TOTL  3.128992e+09  \n",
       "350   SP.DYN.CBRT.IN  36.137676  Population, total   SP.POP.TOTL  3.193888e+09  \n",
       "460   SP.DYN.CBRT.IN  35.020803  Population, total   SP.POP.TOTL  3.259303e+09  \n",
       "571   SP.DYN.CBRT.IN  34.396072  Population, total   SP.POP.TOTL  3.326000e+09  \n",
       "688   SP.DYN.CBRT.IN  33.356690  Population, total   SP.POP.TOTL  3.395797e+09  \n",
       "809   SP.DYN.CBRT.IN  33.082671  Population, total   SP.POP.TOTL  3.465205e+09  \n",
       "931   SP.DYN.CBRT.IN  33.224742  Population, total   SP.POP.TOTL  3.535391e+09  \n",
       "1055  SP.DYN.CBRT.IN  32.713414  Population, total   SP.POP.TOTL  3.609761e+09  "
      ]
     },
     "execution_count": 32,
     "metadata": {},
     "output_type": "execute_result"
    }
   ],
   "source": [
    "filter_world = (subset_GDP_birth_pop[\"CountryName\"] == \"World\")\n",
    "subset_world = subset_GDP_birth_pop[filter_world]\n",
    "subset_world.head(10)"
   ]
  },
  {
   "cell_type": "markdown",
   "metadata": {},
   "source": [
    "### Histogram  of World Population (in billions)"
   ]
  },
  {
   "cell_type": "code",
   "execution_count": 33,
   "metadata": {},
   "outputs": [
    {
     "data": {
      "image/png": "[encoded data removed]",
      "text/plain": [
       "<Figure size 432x288 with 1 Axes>"
      ]
     },
     "metadata": {
      "needs_background": "light"
     },
     "output_type": "display_data"
    }
   ],
   "source": [
    "years = subset_world[\"Year\"].values\n",
    "population = subset_world[\"Value\"].values\n",
    "plt.bar(years,population)\n",
    "plt.show()\n",
    "#plt.plot(subset_world['Year'].values, subset_world['Value'].values)"
   ]
  },
  {
   "cell_type": "markdown",
   "metadata": {},
   "source": [
    "### Population growth in the world and the most populous countries"
   ]
  },
  {
   "cell_type": "code",
   "execution_count": 57,
   "metadata": {},
   "outputs": [
    {
     "data": {
      "image/png": "[encoded data removed]",
      "text/plain": [
       "<Figure size 432x288 with 1 Axes>"
      ]
     },
     "metadata": {
      "needs_background": "light"
     },
     "output_type": "display_data"
    }
   ],
   "source": [
    "# switch to a line plotin\n",
    "plt.plot(subset_world['Year'].values, subset_world['Value'].values, 'k-.')\n",
    "#plt.plot(subset_world['Year'].values,subset_China['Value'].values)\n",
    "#plt.plot(subset_world['Year'].values,subset_india['Value'].values)\n",
    "# Label the axes\n",
    "plt.xlabel('Year')\n",
    "plt.ylabel(subset_world['IndicatorName'].iloc[0])\n",
    "\n",
    "#label the figure\n",
    "plt.title('World Population (in billions)')\n",
    "\n",
    "# to make more honest, start they y axis at 0\n",
    "#plt.axis([1959, 2011,0,8000000000])\n",
    "plt.axis([1959, 2011,0,8000000000])\n",
    "plt.show()"
   ]
  },
  {
   "cell_type": "code",
   "execution_count": 95,
   "metadata": {},
   "outputs": [
    {
     "data": {
      "text/plain": [
       "count    5.400000e+01\n",
       "mean     5.016983e+09\n",
       "std      1.260320e+09\n",
       "min      3.034971e+09\n",
       "25%      3.933682e+09\n",
       "50%      4.971076e+09\n",
       "75%      6.095853e+09\n",
       "max      7.174521e+09\n",
       "Name: Value, dtype: float64"
      ]
     },
     "execution_count": 95,
     "metadata": {},
     "output_type": "execute_result"
    }
   ],
   "source": [
    "subset_world['Value'].describe()"
   ]
  },
  {
   "cell_type": "markdown",
   "metadata": {},
   "source": [
    "#### India and China\n"
   ]
  },
  {
   "cell_type": "code",
   "execution_count": 84,
   "metadata": {},
   "outputs": [
    {
     "data": {
      "image/png": "[encoded data removed]",
      "text/plain": [
       "<Figure size 432x288 with 1 Axes>"
      ]
     },
     "metadata": {
      "needs_background": "light"
     },
     "output_type": "display_data"
    }
   ],
   "source": [
    "# switch to a line plotin\n",
    "line, = plt.plot(subset_world['Year'].values,subset_China['Value'].values, 'co', label='China')\n",
    "line, = plt.plot(subset_world['Year'].values,subset_india['Value'].values, 'm', label='India')\n",
    "# Label the axes\n",
    "plt.xlabel('Year')\n",
    "plt.ylabel(subset_world['IndicatorName'].iloc[0])\n",
    "\n",
    "#label the figure\n",
    "plt.title('China $ India Populations (in billions)')\n",
    "\n",
    "# to make more honest, start they y axis at 0\n",
    "#plt.axis([1959, 2011,0,8000000000])\n",
    "plt.axis([1959, 2011,0,1500000000])\n",
    "plt.legend()\n",
    "plt.show()"
   ]
  },
  {
   "cell_type": "code",
   "execution_count": 92,
   "metadata": {},
   "outputs": [
    {
     "data": {
      "text/plain": [
       "count    5.400000e+01\n",
       "mean     1.055207e+09\n",
       "std      2.219636e+08\n",
       "min      6.603300e+08\n",
       "25%      8.865425e+08\n",
       "50%      1.075412e+09\n",
       "75%      1.260168e+09\n",
       "max      1.357380e+09\n",
       "Name: Value, dtype: float64"
      ]
     },
     "execution_count": 92,
     "metadata": {},
     "output_type": "execute_result"
    }
   ],
   "source": [
    "subset_China['Value'].describe()"
   ]
  },
  {
   "cell_type": "code",
   "execution_count": 93,
   "metadata": {},
   "outputs": [
    {
     "data": {
      "text/plain": [
       "count    5.400000e+01\n",
       "mean     8.282916e+08\n",
       "std      2.579621e+08\n",
       "min      4.496619e+08\n",
       "25%      5.969505e+08\n",
       "50%      8.084197e+08\n",
       "75%      1.048855e+09\n",
       "max      1.279499e+09\n",
       "Name: Value, dtype: float64"
      ]
     },
     "execution_count": 93,
     "metadata": {},
     "output_type": "execute_result"
    }
   ],
   "source": [
    "subset_india['Value'].describe()"
   ]
  },
  {
   "cell_type": "markdown",
   "metadata": {},
   "source": [
    "#### Nigeria, Indonesia, USA and Japan"
   ]
  },
  {
   "cell_type": "code",
   "execution_count": 110,
   "metadata": {},
   "outputs": [
    {
     "data": {
      "image/png": "[encoded data removed]",
      "text/plain": [
       "<Figure size 432x288 with 1 Axes>"
      ]
     },
     "metadata": {
      "needs_background": "light"
     },
     "output_type": "display_data"
    }
   ],
   "source": [
    "# switch to a line plotin\n",
    "line, = plt.plot(subset_world['Year'].values, subset_Nigeria['Value'].values, 'r+', label='Nigeria')\n",
    "line, = plt.plot(subset_world['Year'].values,subset_Indonesia['Value'].values,'g^', label='Indonesia')\n",
    "line, = plt.plot(subset_world['Year'].values,subset_USA['Value'].values, 'bo', label='USA')\n",
    "line, = plt.plot(subset_world['Year'].values,subset_japan['Value'].values, 'kv', label='Japan')\n",
    "# Label the axes\n",
    "plt.xlabel('Year')\n",
    "plt.ylabel(subset_world['IndicatorName'].iloc[0])\n",
    "\n",
    "#label the figure\n",
    "plt.title('Nigeria, Indonesia, USA & Japan Populations (in 100 millions)')\n",
    "#line, = ax.plot([1, 2, 3], label='Inline label')\n",
    "\n",
    "\n",
    "# to make more honest, start they y axis at 0\n",
    "#plt.axis([1959, 2011,0,8000000000])\n",
    "plt.axis([1959, 2011,0,350000000])\n",
    "plt.legend()\n",
    "plt.show()"
   ]
  },
  {
   "cell_type": "code",
   "execution_count": 96,
   "metadata": {},
   "outputs": [
    {
     "data": {
      "text/plain": [
       "count    5.400000e+01\n",
       "mean     2.460298e+08\n",
       "std      4.041278e+07\n",
       "min      1.806710e+08\n",
       "25%      2.123952e+08\n",
       "50%      2.412110e+08\n",
       "75%      2.813818e+08\n",
       "max      3.164975e+08\n",
       "Name: Value, dtype: float64"
      ]
     },
     "execution_count": 96,
     "metadata": {},
     "output_type": "execute_result"
    }
   ],
   "source": [
    "subset_USA['Value'].describe()"
   ]
  },
  {
   "cell_type": "code",
   "execution_count": 97,
   "metadata": {},
   "outputs": [
    {
     "data": {
      "text/plain": [
       "count    5.400000e+01\n",
       "mean     1.171757e+08\n",
       "std      1.118405e+07\n",
       "min      9.250057e+07\n",
       "25%      1.085998e+08\n",
       "50%      1.217915e+08\n",
       "75%      1.267900e+08\n",
       "max      1.280700e+08\n",
       "Name: Value, dtype: float64"
      ]
     },
     "execution_count": 97,
     "metadata": {},
     "output_type": "execute_result"
    }
   ],
   "source": [
    "subset_japan['Value'].describe()"
   ]
  },
  {
   "cell_type": "code",
   "execution_count": 98,
   "metadata": {},
   "outputs": [
    {
     "data": {
      "text/plain": [
       "count    5.400000e+01\n",
       "mean     1.685816e+08\n",
       "std      4.967499e+07\n",
       "min      8.779251e+07\n",
       "25%      1.250480e+08\n",
       "50%      1.700655e+08\n",
       "75%      2.108163e+08\n",
       "max      2.512683e+08\n",
       "Name: Value, dtype: float64"
      ]
     },
     "execution_count": 98,
     "metadata": {},
     "output_type": "execute_result"
    }
   ],
   "source": [
    "subset_Indonesia['Value'].describe()"
   ]
  },
  {
   "cell_type": "code",
   "execution_count": 99,
   "metadata": {},
   "outputs": [
    {
     "data": {
      "text/plain": [
       "count    5.400000e+01\n",
       "mean     9.411712e+07\n",
       "std      3.757994e+07\n",
       "min      4.521161e+07\n",
       "25%      6.067835e+07\n",
       "50%      8.726548e+07\n",
       "75%      1.221141e+08\n",
       "max      1.728165e+08\n",
       "Name: Value, dtype: float64"
      ]
     },
     "execution_count": 99,
     "metadata": {},
     "output_type": "execute_result"
    }
   ],
   "source": [
    "subset_Nigeria['Value'].describe()"
   ]
  },
  {
   "cell_type": "markdown",
   "metadata": {},
   "source": [
    "### World GDP per capita and birth rate"
   ]
  },
  {
   "cell_type": "code",
   "execution_count": 103,
   "metadata": {},
   "outputs": [
    {
     "data": {
      "image/png": "[encoded data removed]",
      "text/plain": [
       "<Figure size 432x288 with 1 Axes>"
      ]
     },
     "metadata": {
      "needs_background": "light"
     },
     "output_type": "display_data"
    }
   ],
   "source": [
    "# switch to a line plotin\n",
    "plt.plot(subset_world['Year'].values, subset_world['Value_x'].values, 'k-.')\n",
    "\n",
    "# Label the axes\n",
    "plt.xlabel('Year')\n",
    "plt.ylabel(subset_world['IndicatorName_x'].iloc[0])\n",
    "\n",
    "#label the figure\n",
    "plt.title('World GDP per capita')\n",
    "\n",
    "# to make more honest, start they y axis at 0\n",
    "#plt.axis([1959, 2011,0,8000000000])\n",
    "plt.axis([1959, 2011,0,8000])\n",
    "plt.show()"
   ]
  },
  {
   "cell_type": "code",
   "execution_count": 109,
   "metadata": {},
   "outputs": [
    {
     "data": {
      "text/plain": [
       "count      54.000000\n",
       "mean     5539.227964\n",
       "std      1366.989797\n",
       "min      3066.332850\n",
       "25%      4620.402260\n",
       "50%      5459.934228\n",
       "75%      6635.768771\n",
       "max      7907.797879\n",
       "Name: Value_x, dtype: float64"
      ]
     },
     "execution_count": 109,
     "metadata": {},
     "output_type": "execute_result"
    }
   ],
   "source": [
    "subset_world['Value_x'].describe()"
   ]
  },
  {
   "cell_type": "code",
   "execution_count": 108,
   "metadata": {},
   "outputs": [
    {
     "data": {
      "image/png": "[encoded data removed]",
      "text/plain": [
       "<Figure size 432x288 with 1 Axes>"
      ]
     },
     "metadata": {
      "needs_background": "light"
     },
     "output_type": "display_data"
    }
   ],
   "source": [
    "# switch to a line plotin\n",
    "plt.plot(subset_world['Year'].values, subset_world['Value_y'].values, 'k-.')\n",
    "\n",
    "# Label the axes\n",
    "plt.xlabel('Year')\n",
    "plt.ylabel(subset_world['IndicatorName_y'].iloc[0])\n",
    "\n",
    "#label the figure\n",
    "plt.title('World birth rate (per 1000 people)')\n",
    "\n",
    "# to make more honest, start they y axis at 0\n",
    "#plt.axis([1959, 2011,0,8000000000])\n",
    "plt.axis([1959, 2011,0,50])\n",
    "plt.show()"
   ]
  },
  {
   "cell_type": "code",
   "execution_count": 106,
   "metadata": {},
   "outputs": [
    {
     "data": {
      "text/plain": [
       "count    54.000000\n",
       "mean     26.410589\n",
       "std       4.914220\n",
       "min      19.387527\n",
       "25%      21.675159\n",
       "50%      27.244751\n",
       "75%      30.281146\n",
       "max      36.137676\n",
       "Name: Value_y, dtype: float64"
      ]
     },
     "execution_count": 106,
     "metadata": {},
     "output_type": "execute_result"
    }
   ],
   "source": [
    "subset_world['Value_y'].describe()"
   ]
  },
  {
   "cell_type": "raw",
   "metadata": {},
   "source": []
  },
  {
   "cell_type": "markdown",
   "metadata": {},
   "source": [
    "### GDPs and birth rates of major developed and developing nations"
   ]
  },
  {
   "cell_type": "markdown",
   "metadata": {},
   "source": [
    "#### USA, Japan, China"
   ]
  },
  {
   "cell_type": "code",
   "execution_count": 88,
   "metadata": {},
   "outputs": [
    {
     "data": {
      "image/png": "[encoded data removed]",
      "text/plain": [
       "<Figure size 432x288 with 1 Axes>"
      ]
     },
     "metadata": {
      "needs_background": "light"
     },
     "output_type": "display_data"
    }
   ],
   "source": [
    "# switch to a line plotin\n",
    "line, = plt.plot(subset_world['Year'].values,subset_USA['Value_x'].values, 'bo', label='USA')\n",
    "line, = plt.plot(subset_world['Year'].values,subset_japan['Value_x'].values, 'kv', label='Japan')\n",
    "line, = plt.plot(subset_world['Year'].values,subset_China['Value_x'].values, 'co', label='China')\n",
    "# Label the axes\n",
    "plt.xlabel('Year')\n",
    "plt.ylabel(subset_world['IndicatorName_x'].iloc[0])\n",
    "\n",
    "#label the figure\n",
    "plt.title('USA, Japan, and China GDP per capita')\n",
    "\n",
    "# to make more honest, start they y axis at 0\n",
    "#plt.axis([1959, 2011,0,8000000000])\n",
    "#plt.axis([1959, 2011,0,350000000])\n",
    "plt.legend()\n",
    "plt.show()"
   ]
  },
  {
   "cell_type": "code",
   "execution_count": 89,
   "metadata": {},
   "outputs": [
    {
     "data": {
      "image/png": "[encoded data removed]",
      "text/plain": [
       "<Figure size 432x288 with 1 Axes>"
      ]
     },
     "metadata": {
      "needs_background": "light"
     },
     "output_type": "display_data"
    }
   ],
   "source": [
    "# switch to a line plotin\n",
    "line, = plt.plot(subset_world['Year'].values,subset_USA['Value_y'].values, 'bo', label='USA')\n",
    "line, = plt.plot(subset_world['Year'].values,subset_japan['Value_y'].values, 'kv', label='Japan')\n",
    "line, = plt.plot(subset_world['Year'].values,subset_China['Value_y'].values, 'co', label='China')\n",
    "# Label the axes\n",
    "plt.xlabel('Year')\n",
    "plt.ylabel(subset_world['IndicatorName_y'].iloc[0])\n",
    "\n",
    "#label the figure\n",
    "plt.title('USA, Japan, and China birth rates (per 1000)')\n",
    "\n",
    "# to make more honest, start they y axis at 0\n",
    "#plt.axis([1959, 2011,0,8000000000])\n",
    "plt.axis([1959, 2011,0,50])\n",
    "plt.legend()\n",
    "plt.show()"
   ]
  },
  {
   "cell_type": "markdown",
   "metadata": {},
   "source": [
    "#### India, nigeria, Indonesia"
   ]
  },
  {
   "cell_type": "code",
   "execution_count": 86,
   "metadata": {},
   "outputs": [
    {
     "data": {
      "image/png": "[encoded data removed]",
      "text/plain": [
       "<Figure size 432x288 with 1 Axes>"
      ]
     },
     "metadata": {
      "needs_background": "light"
     },
     "output_type": "display_data"
    }
   ],
   "source": [
    "# switch to a line plotin\n",
    "line, = plt.plot(subset_world['Year'].values, subset_Nigeria['Value_x'].values, 'r+', label='Nigeria')\n",
    "line, = plt.plot(subset_world['Year'].values,subset_Indonesia['Value_x'].values,'g^', label='Indonesia')\n",
    "line, = plt.plot(subset_world['Year'].values,subset_india['Value_x'].values, 'm', label='India')\n",
    "# Label the axes\n",
    "plt.xlabel('Year')\n",
    "plt.ylabel(subset_world['IndicatorName_x'].iloc[0])\n",
    "\n",
    "#label the figure\n",
    "plt.title('India, Nigeria and Indonesia GDPs per capita')\n",
    "\n",
    "# to make more honest, start they y axis at 0\n",
    "#plt.axis([1959, 2011,0,8000000000])\n",
    "plt.axis([1959, 2016,0,2000])\n",
    "plt.legend()\n",
    "plt.show()"
   ]
  },
  {
   "cell_type": "code",
   "execution_count": 85,
   "metadata": {},
   "outputs": [
    {
     "data": {
      "image/png": "[encoded data removed]",
      "text/plain": [
       "<Figure size 432x288 with 1 Axes>"
      ]
     },
     "metadata": {
      "needs_background": "light"
     },
     "output_type": "display_data"
    }
   ],
   "source": [
    "# switch to a line plotin\n",
    "line, = plt.plot(subset_world['Year'].values, subset_Nigeria['Value_y'].values, 'r+', label='Nigeria')\n",
    "line, = plt.plot(subset_world['Year'].values,subset_Indonesia['Value_y'].values,'g^', label='Indonesia')\n",
    "line, = plt.plot(subset_world['Year'].values,subset_india['Value_y'].values, 'm', label='India')\n",
    "# Label the axes\n",
    "plt.xlabel('Year')\n",
    "plt.ylabel(subset_world['IndicatorName_y'].iloc[0])\n",
    "\n",
    "#label the figure\n",
    "plt.title('India, Nigeria and Indonesia birth rates (per 1000 people)')\n",
    "\n",
    "# to make more honest, start they y axis at 0\n",
    "#plt.axis([1959, 2011,0,8000000000])\n",
    "plt.axis([1959, 2011,0,50])\n",
    "plt.legend()\n",
    "plt.show()"
   ]
  },
  {
   "cell_type": "code",
   "execution_count": 70,
   "metadata": {},
   "outputs": [
    {
     "data": {
      "text/html": [
       "<div>\n",
       "<style scoped>\n",
       "    .dataframe tbody tr th:only-of-type {\n",
       "        vertical-align: middle;\n",
       "    }\n",
       "\n",
       "    .dataframe tbody tr th {\n",
       "        vertical-align: top;\n",
       "    }\n",
       "\n",
       "    .dataframe thead th {\n",
       "        text-align: right;\n",
       "    }\n",
       "</style>\n",
       "<table border=\"1\" class=\"dataframe\">\n",
       "  <thead>\n",
       "    <tr style=\"text-align: right;\">\n",
       "      <th></th>\n",
       "      <th>CountryName</th>\n",
       "      <th>CountryCode</th>\n",
       "      <th>IndicatorName_x</th>\n",
       "      <th>IndicatorCode_x</th>\n",
       "      <th>Year</th>\n",
       "      <th>Value_x</th>\n",
       "      <th>IndicatorName_y</th>\n",
       "      <th>IndicatorCode_y</th>\n",
       "      <th>Value_y</th>\n",
       "      <th>IndicatorName</th>\n",
       "      <th>IndicatorCode</th>\n",
       "      <th>Value</th>\n",
       "    </tr>\n",
       "  </thead>\n",
       "  <tbody>\n",
       "    <tr>\n",
       "      <th>60</th>\n",
       "      <td>Indonesia</td>\n",
       "      <td>IDN</td>\n",
       "      <td>GDP per capita (constant 2005 US$)</td>\n",
       "      <td>NY.GDP.PCAP.KD</td>\n",
       "      <td>1960</td>\n",
       "      <td>288.963670</td>\n",
       "      <td>Birth rate, crude (per 1,000 people)</td>\n",
       "      <td>SP.DYN.CBRT.IN</td>\n",
       "      <td>44.560</td>\n",
       "      <td>Population, total</td>\n",
       "      <td>SP.POP.TOTL</td>\n",
       "      <td>87792512.0</td>\n",
       "    </tr>\n",
       "    <tr>\n",
       "      <th>169</th>\n",
       "      <td>Indonesia</td>\n",
       "      <td>IDN</td>\n",
       "      <td>GDP per capita (constant 2005 US$)</td>\n",
       "      <td>NY.GDP.PCAP.KD</td>\n",
       "      <td>1961</td>\n",
       "      <td>298.625695</td>\n",
       "      <td>Birth rate, crude (per 1,000 people)</td>\n",
       "      <td>SP.DYN.CBRT.IN</td>\n",
       "      <td>44.277</td>\n",
       "      <td>Population, total</td>\n",
       "      <td>SP.POP.TOTL</td>\n",
       "      <td>90138235.0</td>\n",
       "    </tr>\n",
       "    <tr>\n",
       "      <th>280</th>\n",
       "      <td>Indonesia</td>\n",
       "      <td>IDN</td>\n",
       "      <td>GDP per capita (constant 2005 US$)</td>\n",
       "      <td>NY.GDP.PCAP.KD</td>\n",
       "      <td>1962</td>\n",
       "      <td>296.372284</td>\n",
       "      <td>Birth rate, crude (per 1,000 people)</td>\n",
       "      <td>SP.DYN.CBRT.IN</td>\n",
       "      <td>43.934</td>\n",
       "      <td>Population, total</td>\n",
       "      <td>SP.POP.TOTL</td>\n",
       "      <td>92558006.0</td>\n",
       "    </tr>\n",
       "    <tr>\n",
       "      <th>390</th>\n",
       "      <td>Indonesia</td>\n",
       "      <td>IDN</td>\n",
       "      <td>GDP per capita (constant 2005 US$)</td>\n",
       "      <td>NY.GDP.PCAP.KD</td>\n",
       "      <td>1963</td>\n",
       "      <td>282.082945</td>\n",
       "      <td>Birth rate, crude (per 1,000 people)</td>\n",
       "      <td>SP.DYN.CBRT.IN</td>\n",
       "      <td>43.551</td>\n",
       "      <td>Population, total</td>\n",
       "      <td>SP.POP.TOTL</td>\n",
       "      <td>95055669.0</td>\n",
       "    </tr>\n",
       "    <tr>\n",
       "      <th>500</th>\n",
       "      <td>Indonesia</td>\n",
       "      <td>IDN</td>\n",
       "      <td>GDP per capita (constant 2005 US$)</td>\n",
       "      <td>NY.GDP.PCAP.KD</td>\n",
       "      <td>1964</td>\n",
       "      <td>284.100832</td>\n",
       "      <td>Birth rate, crude (per 1,000 people)</td>\n",
       "      <td>SP.DYN.CBRT.IN</td>\n",
       "      <td>43.141</td>\n",
       "      <td>Population, total</td>\n",
       "      <td>SP.POP.TOTL</td>\n",
       "      <td>97638027.0</td>\n",
       "    </tr>\n",
       "    <tr>\n",
       "      <th>615</th>\n",
       "      <td>Indonesia</td>\n",
       "      <td>IDN</td>\n",
       "      <td>GDP per capita (constant 2005 US$)</td>\n",
       "      <td>NY.GDP.PCAP.KD</td>\n",
       "      <td>1965</td>\n",
       "      <td>279.155257</td>\n",
       "      <td>Birth rate, crude (per 1,000 people)</td>\n",
       "      <td>SP.DYN.CBRT.IN</td>\n",
       "      <td>42.710</td>\n",
       "      <td>Population, total</td>\n",
       "      <td>SP.POP.TOTL</td>\n",
       "      <td>100308896.0</td>\n",
       "    </tr>\n",
       "    <tr>\n",
       "      <th>734</th>\n",
       "      <td>Indonesia</td>\n",
       "      <td>IDN</td>\n",
       "      <td>GDP per capita (constant 2005 US$)</td>\n",
       "      <td>NY.GDP.PCAP.KD</td>\n",
       "      <td>1966</td>\n",
       "      <td>279.428210</td>\n",
       "      <td>Birth rate, crude (per 1,000 people)</td>\n",
       "      <td>SP.DYN.CBRT.IN</td>\n",
       "      <td>42.250</td>\n",
       "      <td>Population, total</td>\n",
       "      <td>SP.POP.TOTL</td>\n",
       "      <td>103067352.0</td>\n",
       "    </tr>\n",
       "    <tr>\n",
       "      <th>854</th>\n",
       "      <td>Indonesia</td>\n",
       "      <td>IDN</td>\n",
       "      <td>GDP per capita (constant 2005 US$)</td>\n",
       "      <td>NY.GDP.PCAP.KD</td>\n",
       "      <td>1967</td>\n",
       "      <td>274.994222</td>\n",
       "      <td>Birth rate, crude (per 1,000 people)</td>\n",
       "      <td>SP.DYN.CBRT.IN</td>\n",
       "      <td>41.747</td>\n",
       "      <td>Population, total</td>\n",
       "      <td>SP.POP.TOTL</td>\n",
       "      <td>105907403.0</td>\n",
       "    </tr>\n",
       "    <tr>\n",
       "      <th>976</th>\n",
       "      <td>Indonesia</td>\n",
       "      <td>IDN</td>\n",
       "      <td>GDP per capita (constant 2005 US$)</td>\n",
       "      <td>NY.GDP.PCAP.KD</td>\n",
       "      <td>1968</td>\n",
       "      <td>299.837159</td>\n",
       "      <td>Birth rate, crude (per 1,000 people)</td>\n",
       "      <td>SP.DYN.CBRT.IN</td>\n",
       "      <td>41.196</td>\n",
       "      <td>Population, total</td>\n",
       "      <td>SP.POP.TOTL</td>\n",
       "      <td>108821565.0</td>\n",
       "    </tr>\n",
       "    <tr>\n",
       "      <th>1100</th>\n",
       "      <td>Indonesia</td>\n",
       "      <td>IDN</td>\n",
       "      <td>GDP per capita (constant 2005 US$)</td>\n",
       "      <td>NY.GDP.PCAP.KD</td>\n",
       "      <td>1969</td>\n",
       "      <td>313.671719</td>\n",
       "      <td>Birth rate, crude (per 1,000 people)</td>\n",
       "      <td>SP.DYN.CBRT.IN</td>\n",
       "      <td>40.601</td>\n",
       "      <td>Population, total</td>\n",
       "      <td>SP.POP.TOTL</td>\n",
       "      <td>111800090.0</td>\n",
       "    </tr>\n",
       "  </tbody>\n",
       "</table>\n",
       "</div>"
      ],
      "text/plain": [
       "     CountryName CountryCode                     IndicatorName_x  \\\n",
       "60     Indonesia         IDN  GDP per capita (constant 2005 US$)   \n",
       "169    Indonesia         IDN  GDP per capita (constant 2005 US$)   \n",
       "280    Indonesia         IDN  GDP per capita (constant 2005 US$)   \n",
       "390    Indonesia         IDN  GDP per capita (constant 2005 US$)   \n",
       "500    Indonesia         IDN  GDP per capita (constant 2005 US$)   \n",
       "615    Indonesia         IDN  GDP per capita (constant 2005 US$)   \n",
       "734    Indonesia         IDN  GDP per capita (constant 2005 US$)   \n",
       "854    Indonesia         IDN  GDP per capita (constant 2005 US$)   \n",
       "976    Indonesia         IDN  GDP per capita (constant 2005 US$)   \n",
       "1100   Indonesia         IDN  GDP per capita (constant 2005 US$)   \n",
       "\n",
       "     IndicatorCode_x  Year     Value_x                       IndicatorName_y  \\\n",
       "60    NY.GDP.PCAP.KD  1960  288.963670  Birth rate, crude (per 1,000 people)   \n",
       "169   NY.GDP.PCAP.KD  1961  298.625695  Birth rate, crude (per 1,000 people)   \n",
       "280   NY.GDP.PCAP.KD  1962  296.372284  Birth rate, crude (per 1,000 people)   \n",
       "390   NY.GDP.PCAP.KD  1963  282.082945  Birth rate, crude (per 1,000 people)   \n",
       "500   NY.GDP.PCAP.KD  1964  284.100832  Birth rate, crude (per 1,000 people)   \n",
       "615   NY.GDP.PCAP.KD  1965  279.155257  Birth rate, crude (per 1,000 people)   \n",
       "734   NY.GDP.PCAP.KD  1966  279.428210  Birth rate, crude (per 1,000 people)   \n",
       "854   NY.GDP.PCAP.KD  1967  274.994222  Birth rate, crude (per 1,000 people)   \n",
       "976   NY.GDP.PCAP.KD  1968  299.837159  Birth rate, crude (per 1,000 people)   \n",
       "1100  NY.GDP.PCAP.KD  1969  313.671719  Birth rate, crude (per 1,000 people)   \n",
       "\n",
       "     IndicatorCode_y  Value_y      IndicatorName IndicatorCode        Value  \n",
       "60    SP.DYN.CBRT.IN   44.560  Population, total   SP.POP.TOTL   87792512.0  \n",
       "169   SP.DYN.CBRT.IN   44.277  Population, total   SP.POP.TOTL   90138235.0  \n",
       "280   SP.DYN.CBRT.IN   43.934  Population, total   SP.POP.TOTL   92558006.0  \n",
       "390   SP.DYN.CBRT.IN   43.551  Population, total   SP.POP.TOTL   95055669.0  \n",
       "500   SP.DYN.CBRT.IN   43.141  Population, total   SP.POP.TOTL   97638027.0  \n",
       "615   SP.DYN.CBRT.IN   42.710  Population, total   SP.POP.TOTL  100308896.0  \n",
       "734   SP.DYN.CBRT.IN   42.250  Population, total   SP.POP.TOTL  103067352.0  \n",
       "854   SP.DYN.CBRT.IN   41.747  Population, total   SP.POP.TOTL  105907403.0  \n",
       "976   SP.DYN.CBRT.IN   41.196  Population, total   SP.POP.TOTL  108821565.0  \n",
       "1100  SP.DYN.CBRT.IN   40.601  Population, total   SP.POP.TOTL  111800090.0  "
      ]
     },
     "execution_count": 70,
     "metadata": {},
     "output_type": "execute_result"
    }
   ],
   "source": [
    "subset_Indonesia.head(10)"
   ]
  },
  {
   "cell_type": "code",
   "execution_count": null,
   "metadata": {},
   "outputs": [],
   "source": []
  }
 ],
 "metadata": {
  "kernelspec": {
   "display_name": "Python 3",
   "language": "python",
   "name": "python3"
  },
  "language_info": {
   "codemirror_mode": {
    "name": "ipython",
    "version": 3
   },
   "file_extension": ".py",
   "mimetype": "text/x-python",
   "name": "python",
   "nbconvert_exporter": "python",
   "pygments_lexer": "ipython3",
   "version": "3.7.0"
  }
 },
 "nbformat": 4,
 "nbformat_minor": 2
}
